{
 "cells": [
  {
   "cell_type": "markdown",
   "metadata": {},
   "source": [
    "# Homework Week 8\n",
    "## Media Practices: Programming\n",
    "\n"
   ]
  },
  {
   "cell_type": "markdown",
   "metadata": {
    "collapsed": true
   },
   "source": [
    "### Task 1\n",
    "\n",
    "Draw out a Finite State Machine for a simple DVD player.\n",
    "\n",
    "Inputs are : \n",
    "* Play/pause button, \n",
    "* fast forward button, \n",
    "* rewind button, \n",
    "* mute audio button, \n",
    "* door open switch, \n",
    "* media present sensor\n",
    "\n",
    "Outputs are: \n",
    "* video screen, \n",
    "* audio speaker\n",
    "\n",
    "state = waiting\n",
    "mute_state = 0\n",
    "play_speed = 1\n",
    "\n",
    "while state = waiting:\n",
    "    Output logo video to Video_Screen\n",
    "    Output silence to Audio_Speaker\n",
    "    \n",
    "if door open switch pressed:\n",
    "    Media_present_sensor test:\n",
    "         if returns False:\n",
    "            state = waiting\n",
    "         elif returns True:\n",
    "            state = disc_in\n",
    "            \n",
    "if state = disc_in:\n",
    "    Output menu video to Video_Screen\n",
    "    Output menu audio to Audio_Speaker\n",
    "\n",
    "if play/pause button pressed:\n",
    "    prev_state = state\n",
    "  \n",
    "    if prev_state = disc_in: #if starting from disc in play from beginning\n",
    "            Output video from frame[0] to Video_Screen\n",
    "            Output audio from frame[0] to Audio_Speaker\n",
    "        \n",
    "    if prev_state = paused: #if previous state pause play from paused frame\n",
    "            Output video from frame[paused_frame] to Video_Screen\n",
    "            Output Audio from frame[paused_frame] to Audio_Speaker\n",
    "            \n",
    "    if prev_state = fforward1.5\n",
    "                    or fforward2\n",
    "                    or fforward4\n",
    "                    or rewind1\n",
    "                    or rewind2\n",
    "                    or rewind4: #if previous state fast forward or rewind play from current frame\n",
    "            Output video from frame[current_frame] to Video_Screen \n",
    "            Output Audio from frame[current_frame] to Audio_Speaker\n",
    "            \n",
    "    if prev_state = playing: #if previous state playing, pause at current frame and silence audio\n",
    "            paused_frame = current_frame #hold paused frame\n",
    "            Output paused_frame to Video_Screen\n",
    "            Output silence to Audio_Speaker\n",
    "\n",
    "if mute audio button pressed:\n",
    "    if mute_state = 0:\n",
    "        mute_state = 1\n",
    "        hold_vol = current volume\n",
    "        set Output audio vol = 0\n",
    "        Output 'mute' on Video_Screen\n",
    "    elif mute_state = 1:\n",
    "        mute_state = 0\n",
    "        set Output audio vol = hold_vol\n",
    "        remove 'mute' from Video_Screen\n",
    "\n",
    "if fast forward button pressed:\n",
    "    if state = paused:\n",
    "        play_speed = 4\n",
    "        state = fforward4\n",
    "    elif state = playing:\n",
    "        play_speed = 1.5\n",
    "        state = fforward1.5\n",
    "    elif state = fforward1.5:\n",
    "        play_speed = 2\n",
    "        state = fforward2\n",
    "    elif state = fforward2:\n",
    "        play_speed = 4\n",
    "        state = fforward4\n",
    "    elif state = fforward4:\n",
    "        play_speed = 1\n",
    "        state = playing\n",
    "        \n",
    "if rewind buttong pressed:\n",
    "    if state = paused:\n",
    "        play_speed = -4\n",
    "        state = rewind4\n",
    "    elif state = playing:\n",
    "        play_speed = -1\n",
    "        state = rewind1\n",
    "    elif state = rewind1:\n",
    "        play_speed = -2\n",
    "        state = rewind2\n",
    "    elif state = rewind2:\n",
    "        play_speed = -4\n",
    "        state = rewind4\n",
    "    elif state = rewind4:\n",
    "        play_speed = 1\n",
    "        state = playing\n",
    "\n",
    "while state = fforward1.5 or fforward2 or fforward4 or rewind1 or rewind2 or rewind4:\n",
    "    Output audio vol = 0"
   ]
  },
  {
   "cell_type": "markdown",
   "metadata": {},
   "source": [
    "### Task 2\n",
    "\n",
    "Turn in some notes/ideas on areas you'd like to try to do your project in.\n",
    "\n",
    "I'd like to make a simple additive synthesizer, if that is within reason\n",
    "\n",
    "I'd need to understand user interface for it to be of any use\n",
    "\n",
    "It would include a user input of a base frequency and any number of volume sliders(25-50 for this project), each numbered starting at one\n",
    "\n",
    "The sliders correspond to a frequency's harmonic overtones, multiplying the base freq by slider number:\n",
    "    ex: if base frequency = 10 slider 1 adjusts the volume of a 10 Hz tone,\n",
    "                                slider 2 adjusts the volume of a 20 Hz tone,\n",
    "                                slider 3 adjusts the volume of a 30 Hz tone &c\n",
    "\n",
    "This allows a user to create a sound with any given harmonic overtones\n",
    "\n",
    "Depending on how difficult this part is, there is a next bit I want to include. I'd like to create a small sequencer\n",
    "that allows the user to adjust the duration of the tone played and perhaps, even add a series of base frequencies to create a small sequence of sounds.\n",
    "\n",
    "If this isn't worthy of being a final project I would like to create something involving sound synthesis or sound processing"
   ]
  },
  {
   "cell_type": "markdown",
   "metadata": {},
   "source": [
    "### Task 3\n",
    "\n",
    "Turn the following into working python. \n",
    "\n",
    "It should test by reading the file data/movieplots.txt so be sure you copy that from my repository as well.\n",
    "\n",
    "### The Algorithm\n",
    "```\n",
    "set sentence_count = 0\n",
    "while not at end of STORY \n",
    "    scan STORY for 'A'..'Z'\n",
    "    when one is found note it's position as CAP_FOUND\n",
    "    scan from  CAP_FOUND for '.' or '?' or '!' or '\"' or end of STORY\n",
    "    if '\"' found from here for '\"' or end of STORY\n",
    "\n",
    "    if end of story found quit\n",
    "    if '.' found if next char a number ignore and continue scanning else increment sentence_count\n",
    "    if '?' or '!'found increment sentence_count\n",
    "\n",
    "```"
   ]
  },
  {
   "cell_type": "code",
   "execution_count": 13,
   "metadata": {
    "collapsed": false
   },
   "outputs": [
    {
     "name": "stdout",
     "output_type": "stream",
     "text": [
      "99999926\n"
     ]
    }
   ],
   "source": [
    "testfile = open('movieplots_100m.txt')\n",
    "test_text = testfile.read()\n",
    "test_len = len(test_text)\n",
    "\n",
    "def count_sentences(in_text):\n",
    "    sentence_count = 0\n",
    "    # your code goes here\n",
    "    # remember it's a good idea to embed the algorithm as comments\n",
    "    for upper_case in range (test_len):\n",
    "        if test_text[upper_case] in 'A,B,C,D,E,F,G,H,I,J,K,L,M,N,O,P,Q,R,S,T,U,V,W,X,Y,Z': #if upper case letter\n",
    "            cap_found = upper_case\n",
    "            for end_sent in range (cap_found, test_len):\n",
    "                if test_text[end_sent] in '.' and test_text[end_sent+1] not in '1,2,3,4,5,6,7,8,9,0':\n",
    "                    sentence_count += 1\n",
    "                elif test_text[end_sent] in '?' or '!':\n",
    "                    sentence_count += 1\n",
    "                elif test_text[end_sent] in '\"':\n",
    "                    start_quote = end_sent\n",
    "                    for quote in range (start_quote, test_len):\n",
    "                        if test_text[quote] in '\"':\n",
    "                            end_quote = quote\n",
    "                        else:\n",
    "                            break\n",
    "                else:\n",
    "                    sentence_count += 1 #end of story add 1\n",
    "            else:\n",
    "                break    \n",
    "    # return the number of sentences\n",
    "    return sentence_count\n",
    "\n",
    "print count_sentences(test_text)"
   ]
  },
  {
   "cell_type": "code",
   "execution_count": 4,
   "metadata": {
    "collapsed": false
   },
   "outputs": [
    {
     "data": {
      "text/plain": [
       "<open file 'movieplots_100m.txt', mode 'r' at 0x10381b660>"
      ]
     },
     "execution_count": 4,
     "metadata": {},
     "output_type": "execute_result"
    }
   ],
   "source": []
  },
  {
   "cell_type": "code",
   "execution_count": null,
   "metadata": {
    "collapsed": true
   },
   "outputs": [],
   "source": []
  }
 ],
 "metadata": {
  "kernelspec": {
   "display_name": "Python 2",
   "language": "python",
   "name": "python2"
  },
  "language_info": {
   "codemirror_mode": {
    "name": "ipython",
    "version": 2
   },
   "file_extension": ".py",
   "mimetype": "text/x-python",
   "name": "python",
   "nbconvert_exporter": "python",
   "pygments_lexer": "ipython2",
   "version": "2.7.10"
  }
 },
 "nbformat": 4,
 "nbformat_minor": 0
}
