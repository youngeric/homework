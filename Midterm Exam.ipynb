{
 "cells": [
  {
   "cell_type": "markdown",
   "metadata": {},
   "source": [
    "# Media Practices: Programming -- Midterm Exam"
   ]
  },
  {
   "cell_type": "markdown",
   "metadata": {},
   "source": [
    "## Writing Algorithms\n",
    "\n",
    "For the following write in English/pseudocode an algorithm that will accomplish the task. Indicate data (variables) by giving them UPPERCASE names."
   ]
  },
  {
   "cell_type": "markdown",
   "metadata": {},
   "source": [
    "**Make an array containing the color on each face of a cube**\n"
   ]
  },
  {
   "cell_type": "code",
   "execution_count": null,
   "metadata": {
    "collapsed": true
   },
   "outputs": [],
   "source": [
    "# color cube\n",
    "CUBE_COLOR_ARRAY = [] #create empy array of colors\n",
    "def cube_color(PIXEL): #create function with arguments of pixel to be inspected and side of cube\n",
    "    COLOR = PIXEL.image.load color #read pixel color and set as variable COLOR\n",
    "    if COLOR is >= 0 and <= 255: #if color is within the RGB range\n",
    "        CUBE_COLOR_ARRAY.append(COLOR) #input color into array at appropriate point"
   ]
  },
  {
   "cell_type": "markdown",
   "metadata": {},
   "source": [
    "**Convert numbers in the range 0,255 into letters between 'a' and 'z' (several numbers will convert to a single letter)**"
   ]
  },
  {
   "cell_type": "code",
   "execution_count": 2,
   "metadata": {
    "collapsed": false
   },
   "outputs": [
    {
     "ename": "SyntaxError",
     "evalue": "invalid syntax (<ipython-input-2-198f1d8e9aa1>, line 5)",
     "output_type": "error",
     "traceback": [
      "\u001b[0;36m  File \u001b[0;32m\"<ipython-input-2-198f1d8e9aa1>\"\u001b[0;36m, line \u001b[0;32m5\u001b[0m\n\u001b[0;31m    for NUMBER in range (0,255, STEPS)\u001b[0m\n\u001b[0m                                      ^\u001b[0m\n\u001b[0;31mSyntaxError\u001b[0m\u001b[0;31m:\u001b[0m invalid syntax\n"
     ]
    }
   ],
   "source": [
    "# numbers to letters\n",
    "STEPS = 255 / 26 #clumping numbers together to make 26 increments \n",
    "STEPCOUNT = 0 #to increase with each step\n",
    "ALPHA = [a, b, c, d, e, f, g, h, i, j, k, l, m, n, o, p, q, r, s, t, u, v, w, x, y, z]\n",
    "for NUMBER in range (0,255, STEPS) #at 26 steps print letter in array at stepcount\n",
    "    print ALPHA[STEPCOUNT]\n",
    "    STEPCOUNT += 1\n",
    "\n",
    "    \n"
   ]
  },
  {
   "cell_type": "markdown",
   "metadata": {},
   "source": [
    "**Count the number of sentences in a text named STORY, where 'sentence' is defined as a string that starts with a capital letter and ends with a '.'**"
   ]
  },
  {
   "cell_type": "code",
   "execution_count": null,
   "metadata": {
    "collapsed": true
   },
   "outputs": [],
   "source": [
    "# sentences\n",
    "SENT_COUNT = 0 #sentence counter\n",
    "def sentence_counter (STORY): #counts number of sentences in inputed text\n",
    "    TOTAL_CHAR = max(STORY) #TOTAL_CHAR = number of characters in STORY\n",
    "    for CHAR in range (0, TOTAL_CHAR) #inspects story character by character\n",
    "        divide story into array called STRING at '. ' #dividing story into strings for testing at periods\n",
    "        \n",
    "        STRING_CHAR = max(STRING) #STRING_CHAR = number of characters in STRING\n",
    "        if STRING[0] is upper case and STRING[STRING_CHAR] is period: #if first character of string is upper case and last is period\n",
    "            SENT_COUNT += 1 #add 1 to the sentence counter\n",
    "        else:\n",
    "            return False\n",
    "    print SENT_COUNT #print total\n",
    "        \n",
    "    \n"
   ]
  },
  {
   "cell_type": "markdown",
   "metadata": {},
   "source": [
    "**Count the number of sentences in a text named STORY_TWO where 'sentence' is defined as a string that starts with a capital letter and ends with one of '.', '!', or '?'**"
   ]
  },
  {
   "cell_type": "code",
   "execution_count": null,
   "metadata": {
    "collapsed": true
   },
   "outputs": [],
   "source": [
    "# sentences 2\n",
    "SENT_COUNT = 0 #sentence counter\n",
    "def sentence_counter (STORY): #counts number of sentences in inputed text\n",
    "    TOTAL_CHAR = max(STORY) #TOTAL_CHAR = number of characters in STORY\n",
    "    for CHAR in range (0, TOTAL_CHAR) #inspects story character by character\n",
    "        divide story into array called STRING at '. ', '! ', '? ' #dividing story into strings for testing at periods, exclamations and question marks\n",
    "        \n",
    "        STRING_CHAR = max(STRING) #STRING_CHAR = number of characters in STRING\n",
    "        if STRING[0] is upper case and STRING[STRING_CHAR] is '. ' or '! ' or '? ': #if first character of string is upper case and last is period exclamation or question marka\n",
    "            SENT_COUNT += 1 #add 1 to the sentence counter\n",
    "        else:\n",
    "            return False\n",
    "    print SENT_COUNT #print total\n",
    "        "
   ]
  },
  {
   "cell_type": "markdown",
   "metadata": {},
   "source": [
    "**Count the number of sentences in a text named INTERVIEW where 'sentence' is defined as a string that starts with a capital letter and ends with one of '.', '!', or '?'and ignore quoted passages and decimal numbers.**"
   ]
  },
  {
   "cell_type": "code",
   "execution_count": null,
   "metadata": {
    "collapsed": true
   },
   "outputs": [],
   "source": [
    "# questions\n",
    "def sentence_counter (STORY): #counts number of sentences in inputed text\n",
    "    TOTAL_CHAR = max(STORY) #TOTAL_CHAR = number of characters in STORY\n",
    "    for CHAR in range (0, TOTAL_CHAR) #inspects story character by character\n",
    "        divide story into array called STRING at '. ', '! ', '? ' #dividing story into strings for testing at periods, exclamations and question marks\n",
    "        \n",
    "        STRING_CHAR = max(STRING) #STRING_CHAR = number of characters in STRING\n",
    "        if STRING[0] is '\"': #if the string begins with quotations, return false\n",
    "            return False\n",
    "        elif STRING[STRING_CHAR] is '. ' and STRING[STRING_CHAR - 1] is a number: #if the string ends with a period but the character prior is a number (implying a decimal number) return false\n",
    "            return False\n",
    "        elif STRING[0] is upper case and STRING[STRING_CHAR] is '. ' or '! ' or '? ': #if first character of string is upper case and last is period exclamation or question marka\n",
    "            SENT_COUNT += 1 #add 1 to the sentence counter\n",
    "        else:\n",
    "            return False\n",
    "    print SENT_COUNT #print total\n",
    "        "
   ]
  },
  {
   "cell_type": "markdown",
   "metadata": {},
   "source": [
    "**Do homework for this class**"
   ]
  },
  {
   "cell_type": "code",
   "execution_count": null,
   "metadata": {
    "collapsed": true
   },
   "outputs": [],
   "source": [
    "# homework\n",
    "WEEK = number value for homework assignment number\n",
    "in terminal:\n",
    "    'cd Documents'\n",
    "    'mkdir homeworkweekWEEK'\n",
    "    'cd homeworkweekWEEK'\n",
    "    'git clone https://github.com/youngeric/homework.git'\n",
    "    'git clone https://github.com/mrdale1958/media_practices_programming.git'\n",
    "    'cp media_practicesprogramming/Homework/Homework\\ Week\\ WEEK.ipynb homeworkweek5'\n",
    "Start Anaconda from desktop\n",
    "Click 'Launch' button next to ipython-notebook\n",
    "in web browser:\n",
    "    select documents\n",
    "    select homeworkweekWEEK\n",
    "    successfully do homeworking\n",
    "    see to it that Jupyter has autosaved, or click save\n",
    "in terminal:\n",
    "    'git add Homework\\ Week\\ WEEK.ipynb'\n",
    "    'git commit -m \"notes on homework\"'\n",
    "    'git push'\n",
    "in web browser:\n",
    "    in personal github homework repository:\n",
    "        select Homework Week WEEK\n",
    "        copy hyperlink to clipboard\n",
    "    navigate to canvas.newschool.edu\n",
    "    in canvas.newschool.edu:\n",
    "        under courses select 'Media Practices: Programming'\n",
    "        select 'assignments'\n",
    "        select 'Homework Week WEEK'\n",
    "        select 'submit assignment'\n",
    "        in text field paste hyperlink to 'Homework Week WEEK' from github\n",
    "        select 'submit'\n",
    "in real life:\n",
    "    enjoy cup of tea and listen to smooth jazz\n",
    "        "
   ]
  },
  {
   "cell_type": "markdown",
   "metadata": {},
   "source": [
    "## Discovering algorithms\n",
    "\n",
    "**Describe the algorithms implemented in each cell then rewrite the code choosing better names for the variables**\n"
   ]
  },
  {
   "cell_type": "markdown",
   "metadata": {},
   "source": [
    "```\n",
    "# function 1\n",
    "def do_something(with_object_of_type_text):\n",
    "    return_list = []\n",
    "    for c in range(len(with_object_of_type_text)):\n",
    "        if (text[c] == '?'):\n",
    "            maybe = -1\n",
    "            for b in range(c-1,0,-1):\n",
    "                if with_object_of_type_text[b] in string.ascii_uppercase:\n",
    "                    maybe = b\n",
    "                    continue\n",
    "                if (maybe > -1) and (b < maybe) and (with_object_of_type_text[b] in ['.', '!', '?']):\n",
    "                    return_list.append(with_object_of_type_text[maybe:c])\n",
    "                    break\n",
    "                elif b == 0:\n",
    "                    return_list.append(with_object_of_type_text[0:c])\n",
    "                    break\n",
    "    return return_list\n",
    "```                    \n",
    "    "
   ]
  },
  {
   "cell_type": "code",
   "execution_count": null,
   "metadata": {
    "collapsed": true
   },
   "outputs": [],
   "source": [
    "# algorithm 1\n",
    "#creates a list of questions out of input text\n"
   ]
  },
  {
   "cell_type": "code",
   "execution_count": 12,
   "metadata": {
    "collapsed": false
   },
   "outputs": [
    {
     "ename": "SyntaxError",
     "evalue": "EOF while scanning triple-quoted string literal (<ipython-input-12-99017f90b52c>, line 18)",
     "output_type": "error",
     "traceback": [
      "\u001b[0;36m  File \u001b[0;32m\"<ipython-input-12-99017f90b52c>\"\u001b[0;36m, line \u001b[0;32m18\u001b[0m\n\u001b[0;31m    return return_list\u001b[0m\n\u001b[0m                      \n^\u001b[0m\n\u001b[0;31mSyntaxError\u001b[0m\u001b[0;31m:\u001b[0m EOF while scanning triple-quoted string literal\n"
     ]
    }
   ],
   "source": [
    "# improved version 1\n",
    "def do_something(input_text):\n",
    "    question_list = []\n",
    "    for questmark in range(len(input_text)): #for num in range length of argument characters\n",
    "        if (text[questmark] == '?'): #if character is ? proceed\n",
    "            question_start = -1 \n",
    "            for upper_case in range(questmark-1,0,-1): #from point before questionmark to zero, backwards, all text prior to ?\n",
    "                if input_text[upper_case] in string.ascii_uppercase: #if upper case letter prior to ?\n",
    "                    question_start = upper_case #set maybe to that point number\n",
    "                    continue \n",
    "                if (question_start > -1) and (upper_case < question_start) and (input_text[upper_case] in ['.', '!', '?']): \n",
    "                    \"\"\"if the beginning of the question is not the first sentance, add it to list from start to questionmark\"\"\"\n",
    "                    question_list.append(input_text[question_start:questmark])\n",
    "                    break\n",
    "                elif upper_case == 0: #if question is first sentance\n",
    "                    question_list.append(input_text[0:questmark]) #add to list from first letter to question mark\n",
    "                    break\n",
    "    return question_list\n",
    "\n"
   ]
  },
  {
   "cell_type": "markdown",
   "metadata": {},
   "source": [
    "```\n",
    "# function 2\n",
    "def do_something(with_object_of_type_image):\n",
    "    w,h = with_object_of_type_image.size\n",
    "    p = with_object_of_type_image.load()\n",
    "    for i in range(h):\n",
    "        for j in range(w):\n",
    "            if p[i,j] == (0,0,0):\n",
    "                p[i,j] = (255,255,255)\n",
    "            elif p[i,j] == (255,255,255):\n",
    "                p[i,j] = (0,0,0)\n",
    "    with_object_of_type_image.show()\n",
    "```            \n",
    "    "
   ]
  },
  {
   "cell_type": "code",
   "execution_count": null,
   "metadata": {
    "collapsed": true
   },
   "outputs": [],
   "source": [
    "# algorithm 2\n",
    "comb through all pixels turning absolute black pixels absolute white and absolute white pixels absolute black\n"
   ]
  },
  {
   "cell_type": "code",
   "execution_count": null,
   "metadata": {
    "collapsed": true
   },
   "outputs": [],
   "source": [
    "# improved version 2\n",
    "def swap_black_and_white(input_image):\n",
    "    width,height = input_image.size\n",
    "    pixel_color = input_image.load()\n",
    "    for col in range(h):\n",
    "        for row in range(w):\n",
    "            if pixel_color[col,row] == (0,0,0):\n",
    "                pixel_color[col,row] = (255,255,255) #turn white pixels black\n",
    "            elif pixel_color[col,row] == (255,255,255):\n",
    "                pixel_color[col,row] = (0,0,0) #turn black pixels white\n",
    "    input_image.show()\n"
   ]
  },
  {
   "cell_type": "markdown",
   "metadata": {},
   "source": [
    "```\n",
    "# function 3\n",
    "from PIL import Image\n",
    "def do_something():\n",
    "    bw = 8\n",
    "    bh = 8\n",
    "    sqw = 10\n",
    "    sqh = 10\n",
    "    return_image = Image.new('RGB',(bw*sqw, bh*sqh),(255,255,255))\n",
    "    p = return_image.load()\n",
    "    c1 = (0,0,0)\n",
    "    c2 = (255,255,255)\n",
    "    for i in range(bw):\n",
    "        for j in range(bh):\n",
    "            if (i % 2) == 0:\n",
    "                if (j % 2) == 0:\n",
    "                    c = c1\n",
    "                else:\n",
    "                    c = c2\n",
    "            else:\n",
    "                if (j % 2) == 0:\n",
    "                    c = c2\n",
    "                else:\n",
    "                    c = c1\n",
    "                \n",
    "            for k in range(sqw):\n",
    "                for l in range(sqh):\n",
    "                    p[i*sqw+k, j*sqh+l] = c\n",
    "    return return_image\n",
    "```"
   ]
  },
  {
   "cell_type": "code",
   "execution_count": null,
   "metadata": {
    "collapsed": true
   },
   "outputs": [],
   "source": [
    "# algorithm 3\n",
    "create a black image, 80 x 80 pixels\n",
    "with 4 columns of white pixels and 4 rows of white pixels, 20 pixels apart(one on the far right column), creating 16 boxes\n",
    "    with a black point where the lines intersect"
   ]
  },
  {
   "cell_type": "code",
   "execution_count": 11,
   "metadata": {
    "collapsed": false
   },
   "outputs": [],
   "source": [
    "# improved version 3\n",
    "from PIL import Image\n",
    "def do_something():\n",
    "    num_white_columns = 8\n",
    "    num_white_rows = 8\n",
    "    square_width = 10\n",
    "    square_height = 10\n",
    "    return_image = Image.new('RGB',(num_white_columns*square_width, num_white_rows*square_height),(255,255,255)) #mode, size color , RGB, (80,80) , black\n",
    "    pixel = return_image.load()\n",
    "    black = (0,0,0) #white\n",
    "    white = (255,255,255) #black\n",
    "    for row in range(num_white_columns):\n",
    "        for col in range(num_white_rows): #8\n",
    "            if (row % 2) == 0: \n",
    "                if (col % 2) == 0:\n",
    "                    color = black #if the pixel is in row divisible by two and column divisble by two, it is black\n",
    "                else:\n",
    "                    color = white #if the pixel is in row divisible by two BUT NOT in column divisble by two, it is white\n",
    "            else:\n",
    "                if (col % 2) == 0:\n",
    "                    color = white #if the pixel is NOT in row divisible by two BUT IS in column divisble by two, it is white\n",
    "                else:\n",
    "                    color = black #if the pixel is NOT in row divisible by two AND NOT column divisble by two, it is black\n",
    "                \n",
    "            for k in range(square_width): #10\n",
    "                for l in range(square_height):\n",
    "                    pixel [row*square_width+k, col*square_height+l] = color\n",
    "    return return_image\n",
    "    \n"
   ]
  },
  {
   "cell_type": "markdown",
   "metadata": {},
   "source": [
    "```\n",
    "# function 4\n",
    "def test_something(with_object_of_type_image):\n",
    "    c = (0,0,0)\n",
    "    p = with_object_of_type_image.load()\n",
    "    for i in range(with_object_of_type_image.width):\n",
    "        for j in range(with_object_of_type_image.height):\n",
    "            if p != c:\n",
    "                return False\n",
    "    return True\n",
    "```"
   ]
  },
  {
   "cell_type": "code",
   "execution_count": null,
   "metadata": {
    "collapsed": true
   },
   "outputs": [],
   "source": [
    "# algorithm 4\n",
    "#comb through pixels returning True if black and False if not black\n"
   ]
  },
  {
   "cell_type": "code",
   "execution_count": null,
   "metadata": {
    "collapsed": true
   },
   "outputs": [],
   "source": [
    "# improved version 4\n",
    "def test_black(input_image):\n",
    "    black = (0,0,0)\n",
    "    pixel = input_image.load()\n",
    "    for i in range(input_image.width):\n",
    "        for j in range(input_image.height):\n",
    "            if pixel != black:\n",
    "                return False\n",
    "    return True"
   ]
  },
  {
   "cell_type": "markdown",
   "metadata": {},
   "source": [
    "```\n",
    "# function 5\n",
    "def do_something(with_object_of_type_video):\n",
    "    black_frames []\n",
    "    for n,f in with_object_of_type_video.getFramesByNumber():\n",
    "        if test_something(f):\n",
    "            black_frames.append(n)\n",
    "    return  black_frames\n",
    "```"
   ]
  },
  {
   "cell_type": "code",
   "execution_count": null,
   "metadata": {
    "collapsed": true
   },
   "outputs": [],
   "source": [
    "# algorithm 5\n",
    "#create array with list of black frames in video with use of previous function to determing whether frames are black\n"
   ]
  },
  {
   "cell_type": "code",
   "execution_count": null,
   "metadata": {
    "collapsed": true
   },
   "outputs": [],
   "source": [
    "# improved version 5\n",
    "def black_frame_list(input_video):\n",
    "    black_frames []\n",
    "    for number, frame in input_video.getFramesByNumber(): #\n",
    "        if test_black(f): #if function 4 returns True (frame is black)\n",
    "            black_frames.append(n) #append list with frame number\n",
    "    return  black_frames"
   ]
  }
 ],
 "metadata": {
  "kernelspec": {
   "display_name": "Python 2",
   "language": "python",
   "name": "python2"
  },
  "language_info": {
   "codemirror_mode": {
    "name": "ipython",
    "version": 2
   },
   "file_extension": ".py",
   "mimetype": "text/x-python",
   "name": "python",
   "nbconvert_exporter": "python",
   "pygments_lexer": "ipython2",
   "version": "2.7.10"
  }
 },
 "nbformat": 4,
 "nbformat_minor": 0
}
