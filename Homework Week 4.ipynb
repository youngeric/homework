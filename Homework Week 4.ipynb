{
 "cells": [
  {
   "cell_type": "raw",
   "metadata": {},
   "source": [
    "**Homework Week 4**\n",
    "**Media Practices: Programming**\n",
    "This assignment is mostly about practicing manipulating images and scraping data out of webpages in python. \n"
   ]
  },
  {
   "cell_type": "markdown",
   "metadata": {
    "collapsed": true
   },
   "source": [
    "- Read in data/cc_cat.png\n",
    "- Divide the image into 9 rectangles (3x3)\n",
    "- for the three rectangles row 0 apply a different filter from ImageFilter module\n",
    "- for the three rectangles row 1 apply a different image operation from ImageOps module\n",
    "- for rectangle 0 on row 3, rotate the rectangle 180 degrees\n",
    "- for rectangle 1 on row 3, flip the rectangle vertically\n",
    "- for rectangle 2 on row 3, flip the rectangle horizontally\n"
   ]
  },
  {
   "cell_type": "code",
   "execution_count": 15,
   "metadata": {
    "collapsed": false
   },
   "outputs": [
    {
     "name": "stdout",
     "output_type": "stream",
     "text": [
      "<PIL.PngImagePlugin.PngImageFile image mode=RGB size=333x500 at 0x104AA9AB8>\n",
      "<PIL.Image._ImageCrop image mode=RGB size=111x0 at 0x104AA98C0>\n"
     ]
    }
   ],
   "source": [
    "from PIL import Image\n",
    "cat_pic = Image.open(\"data/cc_cat.png\")\n",
    "w,h = cat_pic.size\n",
    "print cat_pic\n",
    "print cat_pic.crop((0,h/3,w/3,0))#left, upper, right, lower\n",
    "catcrop = cat_pic.crop((0,h/3,w/3,0))\n",
    "cat_pic.show()"
   ]
  },
  {
   "cell_type": "markdown",
   "metadata": {
    "collapsed": true
   },
   "source": [
    "**Dictionaries**\n",
    "Given the data below:\n",
    "- Make a dictionary of all prices over 200\n",
    "- Print the keys from that dictionary\n",
    "- Make a dictionary of tech stocks\n",
    "- Print the average price of tech shaares"
   ]
  },
  {
   "cell_type": "code",
   "execution_count": 8,
   "metadata": {
    "collapsed": false
   },
   "outputs": [
    {
     "name": "stdout",
     "output_type": "stream",
     "text": [
      "{'HPQ': 37.2, 'AAPL': 612.78, 'IBM': 205.55}\n",
      "{'AAPL': 612.78, 'IBM': 205.55}\n"
     ]
    }
   ],
   "source": [
    "prices = {\n",
    "   'ACME': 45.23,\n",
    "   'AAPL': 612.78,\n",
    "   'IBM': 205.55,\n",
    "   'HPQ': 37.20,\n",
    "   'FB': 10.75\n",
    "}\n",
    "tech_names = { 'AAPL', 'IBM', 'HPQ', 'MSFT' }\n",
    "#print prices\n",
    "\n",
    "#print tech_names\n",
    "\n",
    "tech_stocks = { key:value for key,value in prices.items() if key in tech_names } #create dictionary of prices with keys in tech_names\n",
    "\n",
    "print tech_stocks\n",
    "\n",
    "prices_over_200 = { key:value for key,value in prices.items() if value > 200 } # create dictionary of prices >200\n",
    "\n",
    "print prices_over_200\n"
   ]
  },
  {
   "cell_type": "markdown",
   "metadata": {},
   "source": [
    "**Web scraping.**\n",
    "- Add comments about what's going on here. \n",
    "- Then create a dictionary called sales that hasa buyers as keys and prices as values"
   ]
  },
  {
   "cell_type": "code",
   "execution_count": 5,
   "metadata": {
    "collapsed": false
   },
   "outputs": [
    {
     "name": "stdout",
     "output_type": "stream",
     "text": [
      "Buyers:  ['Carson Busses', 'Earl E. Byrd', 'Patty Cakes', 'Derri Anne Connecticut', 'Moe Dess', 'Leda Doggslife', 'Dan Druff', 'Al Fresco', 'Ido Hoe', 'Howie Kisses', 'Len Lease', 'Phil Meup', 'Ira Pent', 'Ben D. Rules', 'Ave Sectomy', 'Gary Shattire', 'Bobbi Soks', 'Sheila Takya', 'Rose Tattoo', 'Moe Tell']\n",
      "Prices:  ['$29.95', '$8.37', '$15.26', '$19.25', '$19.25', '$13.99', '$31.57', '$8.49', '$14.47', '$15.86', '$11.11', '$15.98', '$16.27', '$7.50', '$50.85', '$14.26', '$5.68', '$15.00', '$114.07', '$10.09']\n"
     ]
    },
    {
     "ename": "TypeError",
     "evalue": "unhashable type: 'list'",
     "output_type": "error",
     "traceback": [
      "\u001b[0;31m---------------------------------------------------------------------------\u001b[0m",
      "\u001b[0;31mTypeError\u001b[0m                                 Traceback (most recent call last)",
      "\u001b[0;32m<ipython-input-5-93f1c811f8c3>\u001b[0m in \u001b[0;36m<module>\u001b[0;34m()\u001b[0m\n\u001b[1;32m     12\u001b[0m     \u001b[0;34m'buyers '\u001b[0m\u001b[0;34m:\u001b[0m \u001b[0mprices\u001b[0m\u001b[0;34m\u001b[0m\u001b[0m\n\u001b[1;32m     13\u001b[0m }\n\u001b[0;32m---> 14\u001b[0;31m \u001b[0msales\u001b[0m\u001b[0;34m[\u001b[0m\u001b[0mbuyers\u001b[0m\u001b[0;34m]\u001b[0m\u001b[0;34m\u001b[0m\u001b[0m\n\u001b[0m",
      "\u001b[0;31mTypeError\u001b[0m: unhashable type: 'list'"
     ]
    }
   ],
   "source": [
    "from lxml import html\n",
    "import requests\n",
    "page = requests.get('http://econpy.pythonanywhere.com/ex/001.html')\n",
    "tree = html.fromstring(page.text)\n",
    "#This will create a list of buyers:\n",
    "buyers = tree.xpath('//div[@title=\"buyer-name\"]/text()') #retrieving text with title = buyer name and extracting just that text\n",
    "#This will create a list of prices\n",
    "prices = tree.xpath('//span[@class=\"item-price\"]/text()')#retrieving text with class = item price and extracting just that text\n",
    "print 'Buyers: ', buyers\n",
    "print 'Prices: ', prices\n",
    "sales = {\n",
    "    'Carson Busses': '$29.95'\n",
    "    'Earl E. Byrd': '$8.37'\n",
    "    'Patty Cakes': '$15.26'\n",
    "    'Derri Anne Connecticut':'$19.25'\n",
    "    'Moe Dess':'$19.25'\n",
    "    'Leda Doggslife':'$13.99'\n",
    "    'Dan Druff':'$31.57'\n",
    "    'Al Fresco':'$8.49'\n",
    "    'Ido Hoe':'$14.47'\n",
    "    'Howie Kisses':'$15.86'\n",
    "    'Len Lease':'$11.11'\n",
    "    'Phil Meup':'$15.98'\n",
    "    'Ira Pent':'$16.27'\n",
    "    'Ben D. Rules':'$7.50'\n",
    "    'Ave Sectomy':'$50.85'\n",
    "    'Gary Shattire':'$14.26'\n",
    "    'Bobbi Soks':'$5.68'\n",
    "    'Sheila Takya':'$15.00'\n",
    "    'Rose Tattoo':'$114.07'\n",
    "    'Moe Tell':'$10.09'\n",
    "}\n"
   ]
  },
  {
   "cell_type": "markdown",
   "metadata": {},
   "source": [
    "This is mostly to see if BeautifulSoup is installed properly.  use www.newschool.edu as the input url\n",
    "\n",
    "If your system doesn't recognize beautifulSoup then you will need to type\n",
    "\n",
    "> conda install beautifulsoup4 \n",
    "\n",
    "in a terminal"
   ]
  },
  {
   "cell_type": "code",
   "execution_count": 6,
   "metadata": {
    "collapsed": false
   },
   "outputs": [
    {
     "name": "stdout",
     "output_type": "stream",
     "text": [
      "www.newschool.edu\n",
      "#top\n",
      "None\n",
      "None\n",
      "#\n",
      "/admission/apply-online/\n",
      "/about/contact/\n",
      "https://my.newschool.edu/\n",
      "/about/campus-map/\n",
      "http://courses.newschool.edu\n",
      "/directory/\n",
      "/about/resources-services/\n",
      "/prospective-student-info/\n",
      "/student-info/\n",
      "/parent-info/\n",
      "/alumni-info/\n",
      "/giving/\n",
      "/faculty-info/\n",
      "/employee-info/\n",
      "/parsons/\n",
      "/lang/\n",
      "/performing-arts/\n",
      "/mannes/\n",
      "/jazz/\n",
      "/drama/\n",
      "/nssr/\n",
      "/parsons-paris/\n",
      "/public-engagement/milano-school/\n",
      "/public-engagement/school-of-media-studies/\n",
      "/public-engagement/bachelors-program/\n",
      "/public-engagement/mfa-creative-writing/\n",
      "/public-engagement/school-of-language-learning-teaching/\n",
      "http://social.newschool.edu\n",
      "http://form.jotformpro.com/form/23346135072952\n",
      "#\n",
      "#\n",
      "/\n",
      "/academics/?trigger=design\n",
      "/academics/?trigger=liberal-arts\n",
      "/academics/?trigger=business\n",
      "/academics/?trigger=media\n",
      "/academics/?trigger=performing-arts\n",
      "/academics/?trigger=social-sciences\n",
      "#\n",
      "/about/\n",
      "/academics/\n",
      "/admission/\n",
      "http://events.newschool.edu\n",
      "/giving/\n",
      "http://blogs.newschool.edu/news/\n",
      "http://social.newschool.edu\n",
      "/about/?trigger=video\n",
      "http://blogs.newschool.edu/news/2015/04/parsons-named-best-art-and-design-school-in-the-country/#.VV4JlWRVhBd\n",
      "http://www.newschool.edu/mannes/on-the-move/\n",
      "http://blogs.newschool.edu/news/2015/10/the-new-school-remembers-julien-j-studley/#.ViAER2SrSsq\n",
      "http://blogs.newschool.edu/news/2015/08/lang-lands-on-princeton-reviews-best-college-list/#.VcthcJ1VhBc\n",
      "http://www.newschool.edu/admission/graduate-events/\n",
      "http://blogs.newschool.edu/tedc/\n",
      "http://www.publicseminar.org/2015/10/the-guantanamo-saga-in-laurie-andersons-habeas-corpus/#.VijrEGSrSsq\n",
      "http://events.newschool.edu/event/meeting_challenges_exploring_solutions_in_the_adult_esol_classroom#.ViUHq2SrSso\n",
      "http://blogs.newschool.edu/news/2015/09/media-studies-celebrates-40-years/#.ViUIt2SrSsp\n"
     ]
    }
   ],
   "source": [
    "from bs4 import BeautifulSoup\n",
    "\n",
    "import requests\n",
    "\n",
    "url = raw_input(\"www.newschool.edu\")\n",
    "\n",
    "r  = requests.get(\"http://www.newschool.edu\" +url)\n",
    "\n",
    "data = r.text\n",
    "\n",
    "soup = BeautifulSoup(data)\n",
    "\n",
    "for link in soup.find_all('a'):\n",
    "    print(link.get('href'))"
   ]
  },
  {
   "cell_type": "code",
   "execution_count": null,
   "metadata": {
    "collapsed": true
   },
   "outputs": [],
   "source": []
  }
 ],
 "metadata": {
  "kernelspec": {
   "display_name": "Python 2",
   "language": "python",
   "name": "python2"
  },
  "language_info": {
   "codemirror_mode": {
    "name": "ipython",
    "version": 2
   },
   "file_extension": ".py",
   "mimetype": "text/x-python",
   "name": "python",
   "nbconvert_exporter": "python",
   "pygments_lexer": "ipython2",
   "version": "2.7.10"
  }
 },
 "nbformat": 4,
 "nbformat_minor": 0
}
